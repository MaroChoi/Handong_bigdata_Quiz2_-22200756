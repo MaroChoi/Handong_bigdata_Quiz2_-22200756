{
 "cells": [
  {
   "cell_type": "code",
   "execution_count": 1,
   "id": "e143c05a",
   "metadata": {},
   "outputs": [],
   "source": [
    "# 1. 데이터 불러오기 및 전처리\n",
    "import pandas as pd\n",
    "import matplotlib.pyplot as plt\n",
    "import seaborn as sns"
   ]
  },
  {
   "cell_type": "code",
   "execution_count": 2,
   "id": "78f3bc73",
   "metadata": {},
   "outputs": [],
   "source": [
    "# [1-1] 데이터프레임으로 불러오기\n",
    "df = pd.read_excel('서울대기오염_2019.xlsx')"
   ]
  },
  {
   "cell_type": "code",
   "execution_count": 5,
   "id": "057f5fd5",
   "metadata": {},
   "outputs": [],
   "source": [
    "# [1-2] 컬럼명 변경\n",
    "# 필요한 4개 컬럼만 추출\n",
    "df = df[['날짜', '측정소명', '미세먼지', '초미세먼지']].copy()\n",
    "\n",
    "# 컬럼명 영문으로 변경\n",
    "df.columns = ['date', 'district', 'pm10', 'pm25']\n"
   ]
  },
  {
   "cell_type": "code",
   "execution_count": 6,
   "id": "0aafab61",
   "metadata": {},
   "outputs": [
    {
     "name": "stdout",
     "output_type": "stream",
     "text": [
      "원본 결측치 수:\n",
      " date          0\n",
      "district      0\n",
      "pm10        213\n",
      "pm25        203\n",
      "dtype: int64\n"
     ]
    }
   ],
   "source": [
    "# [1-3] 결측치 및 이상치 처리\n",
    "print(\"원본 결측치 수:\\n\", df.isnull().sum())\n",
    "\n",
    "# 도메인 기준 이상치 제거 (예: pm10 > 600 제거)\n",
    "df = df[df['pm10'] <= 600]\n",
    "\n",
    "# 결측치 제거 (또는 평균/중앙값 대체 가능)\n",
    "df.dropna(subset=['pm10', 'pm25'], inplace=True)"
   ]
  },
  {
   "cell_type": "code",
   "execution_count": null,
   "id": "4f2a1f6e",
   "metadata": {},
   "outputs": [
    {
     "name": "stderr",
     "output_type": "stream",
     "text": [
      "C:\\Users\\chlwo\\AppData\\Local\\Temp\\ipykernel_441164\\2864742295.py:2: UserWarning: Could not infer format, so each element will be parsed individually, falling back to `dateutil`. To ensure parsing is consistent and as-expected, please specify a format.\n",
      "  df['date'] = pd.to_datetime(df['date'])\n"
     ]
    },
    {
     "ename": "DateParseError",
     "evalue": "Unknown datetime string format, unable to parse: 전체, at position 0",
     "output_type": "error",
     "traceback": [
      "\u001b[1;31m---------------------------------------------------------------------------\u001b[0m",
      "\u001b[1;31mDateParseError\u001b[0m                            Traceback (most recent call last)",
      "Cell \u001b[1;32mIn[7], line 2\u001b[0m\n\u001b[0;32m      1\u001b[0m \u001b[38;5;66;03m# [1-4] 자료형 변환\u001b[39;00m\n\u001b[1;32m----> 2\u001b[0m df[\u001b[38;5;124m'\u001b[39m\u001b[38;5;124mdate\u001b[39m\u001b[38;5;124m'\u001b[39m] \u001b[38;5;241m=\u001b[39m pd\u001b[38;5;241m.\u001b[39mto_datetime(df[\u001b[38;5;124m'\u001b[39m\u001b[38;5;124mdate\u001b[39m\u001b[38;5;124m'\u001b[39m])\n\u001b[0;32m      3\u001b[0m df[\u001b[38;5;124m'\u001b[39m\u001b[38;5;124mpm10\u001b[39m\u001b[38;5;124m'\u001b[39m] \u001b[38;5;241m=\u001b[39m df[\u001b[38;5;124m'\u001b[39m\u001b[38;5;124mpm10\u001b[39m\u001b[38;5;124m'\u001b[39m]\u001b[38;5;241m.\u001b[39mastype(\u001b[38;5;28mfloat\u001b[39m)\n\u001b[0;32m      4\u001b[0m df[\u001b[38;5;124m'\u001b[39m\u001b[38;5;124mpm25\u001b[39m\u001b[38;5;124m'\u001b[39m] \u001b[38;5;241m=\u001b[39m df[\u001b[38;5;124m'\u001b[39m\u001b[38;5;124mpm25\u001b[39m\u001b[38;5;124m'\u001b[39m]\u001b[38;5;241m.\u001b[39mastype(\u001b[38;5;28mfloat\u001b[39m)\n",
      "File \u001b[1;32mc:\\anaconda\\Lib\\site-packages\\pandas\\core\\tools\\datetimes.py:1063\u001b[0m, in \u001b[0;36mto_datetime\u001b[1;34m(arg, errors, dayfirst, yearfirst, utc, format, exact, unit, infer_datetime_format, origin, cache)\u001b[0m\n\u001b[0;32m   1061\u001b[0m             result \u001b[38;5;241m=\u001b[39m arg\u001b[38;5;241m.\u001b[39mtz_localize(\u001b[38;5;124m\"\u001b[39m\u001b[38;5;124mutc\u001b[39m\u001b[38;5;124m\"\u001b[39m)\n\u001b[0;32m   1062\u001b[0m \u001b[38;5;28;01melif\u001b[39;00m \u001b[38;5;28misinstance\u001b[39m(arg, ABCSeries):\n\u001b[1;32m-> 1063\u001b[0m     cache_array \u001b[38;5;241m=\u001b[39m _maybe_cache(arg, \u001b[38;5;28mformat\u001b[39m, cache, convert_listlike)\n\u001b[0;32m   1064\u001b[0m     \u001b[38;5;28;01mif\u001b[39;00m \u001b[38;5;129;01mnot\u001b[39;00m cache_array\u001b[38;5;241m.\u001b[39mempty:\n\u001b[0;32m   1065\u001b[0m         result \u001b[38;5;241m=\u001b[39m arg\u001b[38;5;241m.\u001b[39mmap(cache_array)\n",
      "File \u001b[1;32mc:\\anaconda\\Lib\\site-packages\\pandas\\core\\tools\\datetimes.py:247\u001b[0m, in \u001b[0;36m_maybe_cache\u001b[1;34m(arg, format, cache, convert_listlike)\u001b[0m\n\u001b[0;32m    245\u001b[0m unique_dates \u001b[38;5;241m=\u001b[39m unique(arg)\n\u001b[0;32m    246\u001b[0m \u001b[38;5;28;01mif\u001b[39;00m \u001b[38;5;28mlen\u001b[39m(unique_dates) \u001b[38;5;241m<\u001b[39m \u001b[38;5;28mlen\u001b[39m(arg):\n\u001b[1;32m--> 247\u001b[0m     cache_dates \u001b[38;5;241m=\u001b[39m convert_listlike(unique_dates, \u001b[38;5;28mformat\u001b[39m)\n\u001b[0;32m    248\u001b[0m     \u001b[38;5;66;03m# GH#45319\u001b[39;00m\n\u001b[0;32m    249\u001b[0m     \u001b[38;5;28;01mtry\u001b[39;00m:\n",
      "File \u001b[1;32mc:\\anaconda\\Lib\\site-packages\\pandas\\core\\tools\\datetimes.py:435\u001b[0m, in \u001b[0;36m_convert_listlike_datetimes\u001b[1;34m(arg, format, name, utc, unit, errors, dayfirst, yearfirst, exact)\u001b[0m\n\u001b[0;32m    432\u001b[0m \u001b[38;5;28;01mif\u001b[39;00m \u001b[38;5;28mformat\u001b[39m \u001b[38;5;129;01mis\u001b[39;00m \u001b[38;5;129;01mnot\u001b[39;00m \u001b[38;5;28;01mNone\u001b[39;00m \u001b[38;5;129;01mand\u001b[39;00m \u001b[38;5;28mformat\u001b[39m \u001b[38;5;241m!=\u001b[39m \u001b[38;5;124m\"\u001b[39m\u001b[38;5;124mmixed\u001b[39m\u001b[38;5;124m\"\u001b[39m:\n\u001b[0;32m    433\u001b[0m     \u001b[38;5;28;01mreturn\u001b[39;00m _array_strptime_with_fallback(arg, name, utc, \u001b[38;5;28mformat\u001b[39m, exact, errors)\n\u001b[1;32m--> 435\u001b[0m result, tz_parsed \u001b[38;5;241m=\u001b[39m objects_to_datetime64(\n\u001b[0;32m    436\u001b[0m     arg,\n\u001b[0;32m    437\u001b[0m     dayfirst\u001b[38;5;241m=\u001b[39mdayfirst,\n\u001b[0;32m    438\u001b[0m     yearfirst\u001b[38;5;241m=\u001b[39myearfirst,\n\u001b[0;32m    439\u001b[0m     utc\u001b[38;5;241m=\u001b[39mutc,\n\u001b[0;32m    440\u001b[0m     errors\u001b[38;5;241m=\u001b[39merrors,\n\u001b[0;32m    441\u001b[0m     allow_object\u001b[38;5;241m=\u001b[39m\u001b[38;5;28;01mTrue\u001b[39;00m,\n\u001b[0;32m    442\u001b[0m )\n\u001b[0;32m    444\u001b[0m \u001b[38;5;28;01mif\u001b[39;00m tz_parsed \u001b[38;5;129;01mis\u001b[39;00m \u001b[38;5;129;01mnot\u001b[39;00m \u001b[38;5;28;01mNone\u001b[39;00m:\n\u001b[0;32m    445\u001b[0m     \u001b[38;5;66;03m# We can take a shortcut since the datetime64 numpy array\u001b[39;00m\n\u001b[0;32m    446\u001b[0m     \u001b[38;5;66;03m# is in UTC\u001b[39;00m\n\u001b[0;32m    447\u001b[0m     out_unit \u001b[38;5;241m=\u001b[39m np\u001b[38;5;241m.\u001b[39mdatetime_data(result\u001b[38;5;241m.\u001b[39mdtype)[\u001b[38;5;241m0\u001b[39m]\n",
      "File \u001b[1;32mc:\\anaconda\\Lib\\site-packages\\pandas\\core\\arrays\\datetimes.py:2398\u001b[0m, in \u001b[0;36mobjects_to_datetime64\u001b[1;34m(data, dayfirst, yearfirst, utc, errors, allow_object, out_unit)\u001b[0m\n\u001b[0;32m   2395\u001b[0m \u001b[38;5;66;03m# if str-dtype, convert\u001b[39;00m\n\u001b[0;32m   2396\u001b[0m data \u001b[38;5;241m=\u001b[39m np\u001b[38;5;241m.\u001b[39masarray(data, dtype\u001b[38;5;241m=\u001b[39mnp\u001b[38;5;241m.\u001b[39mobject_)\n\u001b[1;32m-> 2398\u001b[0m result, tz_parsed \u001b[38;5;241m=\u001b[39m tslib\u001b[38;5;241m.\u001b[39marray_to_datetime(\n\u001b[0;32m   2399\u001b[0m     data,\n\u001b[0;32m   2400\u001b[0m     errors\u001b[38;5;241m=\u001b[39merrors,\n\u001b[0;32m   2401\u001b[0m     utc\u001b[38;5;241m=\u001b[39mutc,\n\u001b[0;32m   2402\u001b[0m     dayfirst\u001b[38;5;241m=\u001b[39mdayfirst,\n\u001b[0;32m   2403\u001b[0m     yearfirst\u001b[38;5;241m=\u001b[39myearfirst,\n\u001b[0;32m   2404\u001b[0m     creso\u001b[38;5;241m=\u001b[39mabbrev_to_npy_unit(out_unit),\n\u001b[0;32m   2405\u001b[0m )\n\u001b[0;32m   2407\u001b[0m \u001b[38;5;28;01mif\u001b[39;00m tz_parsed \u001b[38;5;129;01mis\u001b[39;00m \u001b[38;5;129;01mnot\u001b[39;00m \u001b[38;5;28;01mNone\u001b[39;00m:\n\u001b[0;32m   2408\u001b[0m     \u001b[38;5;66;03m# We can take a shortcut since the datetime64 numpy array\u001b[39;00m\n\u001b[0;32m   2409\u001b[0m     \u001b[38;5;66;03m#  is in UTC\u001b[39;00m\n\u001b[0;32m   2410\u001b[0m     \u001b[38;5;28;01mreturn\u001b[39;00m result, tz_parsed\n",
      "File \u001b[1;32mtslib.pyx:414\u001b[0m, in \u001b[0;36mpandas._libs.tslib.array_to_datetime\u001b[1;34m()\u001b[0m\n",
      "File \u001b[1;32mtslib.pyx:596\u001b[0m, in \u001b[0;36mpandas._libs.tslib.array_to_datetime\u001b[1;34m()\u001b[0m\n",
      "File \u001b[1;32mtslib.pyx:553\u001b[0m, in \u001b[0;36mpandas._libs.tslib.array_to_datetime\u001b[1;34m()\u001b[0m\n",
      "File \u001b[1;32mconversion.pyx:641\u001b[0m, in \u001b[0;36mpandas._libs.tslibs.conversion.convert_str_to_tsobject\u001b[1;34m()\u001b[0m\n",
      "File \u001b[1;32mparsing.pyx:336\u001b[0m, in \u001b[0;36mpandas._libs.tslibs.parsing.parse_datetime_string\u001b[1;34m()\u001b[0m\n",
      "File \u001b[1;32mparsing.pyx:666\u001b[0m, in \u001b[0;36mpandas._libs.tslibs.parsing.dateutil_parse\u001b[1;34m()\u001b[0m\n",
      "\u001b[1;31mDateParseError\u001b[0m: Unknown datetime string format, unable to parse: 전체, at position 0"
     ]
    }
   ],
   "source": [
    "# [1-4] 자료형 변환\n",
    "df['date'] = pd.to_datetime(df['date'], format='%Y-%m-%d', errors='coerce')\n",
    "df = df[df['date'].notnull()]  # 날짜 변환 실패 행 제거\n",
    "\n",
    "df['pm10'] = df['pm10'].astype(float)\n",
    "df['pm25'] = df['pm25'].astype(float)\n"
   ]
  },
  {
   "cell_type": "code",
   "execution_count": null,
   "id": "aaf01aa8",
   "metadata": {},
   "outputs": [],
   "source": [
    "# [2-1] month, day\n",
    "df['month'] = df['date'].dt.month\n",
    "df['day'] = df['date'].dt.day"
   ]
  },
  {
   "cell_type": "code",
   "execution_count": null,
   "id": "7e1f8778",
   "metadata": {},
   "outputs": [],
   "source": [
    "def get_season(month):\n",
    "    if month in [3, 4, 5]:\n",
    "        return 'spring'\n",
    "    elif month in [6, 7, 8]:\n",
    "        return 'summer'\n",
    "    elif month in [9, 10, 11]:\n",
    "        return 'autumn'\n",
    "    else:\n",
    "        return 'winter'\n",
    "    \n",
    "\n",
    "df['season'] = df['month'].apply(get_season)"
   ]
  },
  {
   "cell_type": "code",
   "execution_count": null,
   "id": "7c3451b3",
   "metadata": {},
   "outputs": [],
   "source": [
    "# 3. 데이터 확인 및 저장\n",
    "df.to_csv('card_output.csv', index=False)"
   ]
  },
  {
   "cell_type": "code",
   "execution_count": null,
   "id": "07189112",
   "metadata": {},
   "outputs": [],
   "source": [
    "# 4. 연간 평균\n",
    "overall_avg = df['pm10'].mean()\n",
    "print(\"연간 평균 PM10:\", overall_avg)"
   ]
  },
  {
   "cell_type": "code",
   "execution_count": null,
   "id": "993b0374",
   "metadata": {},
   "outputs": [],
   "source": [
    "# 5. PM10 최댓값 발생 일자 및 지역\n",
    "max_row = df.loc[df['pm10'].idxmax()]\n",
    "print(\"최댓값 일자 및 구:\", max_row['date'], max_row['district'])"
   ]
  },
  {
   "cell_type": "code",
   "execution_count": null,
   "id": "c7134004",
   "metadata": {},
   "outputs": [],
   "source": [
    "# 6. 구별 PM10 평균 상위 5개\n",
    "district_avg = df.groupby('district')['pm10'].mean().sort_values(ascending=False).head(5)\n",
    "print(\"구별 평균 PM10 상위 5개:\\n\", district_avg)"
   ]
  },
  {
   "cell_type": "code",
   "execution_count": null,
   "id": "1b0bf98e",
   "metadata": {},
   "outputs": [],
   "source": [
    "#  7. 계절별 PM10/PM25 평균\n",
    "df_season = df.groupby('season')[['pm10', 'pm25']].mean().sort_values(by='pm10')\n",
    "print(df_season)"
   ]
  },
  {
   "cell_type": "code",
   "execution_count": null,
   "id": "eb73ab0c",
   "metadata": {},
   "outputs": [],
   "source": [
    "# 8. PM10 등급화 및 분포\n",
    "\n",
    "def pm_grade(value):\n",
    "    if value <= 30:\n",
    "        return 'good'\n",
    "    elif value <= 80:\n",
    "        return 'normal'\n",
    "    elif value <= 150:\n",
    "        return 'bad'\n",
    "    else:\n",
    "        return 'worse'\n",
    "\n",
    "df['pm_grade'] = df['pm10'].apply(pm_grade)\n",
    "\n",
    "pm_dist = df['pm_grade'].value_counts().reset_index()\n",
    "pm_dist.columns = ['pm_grade', 'n']\n",
    "pm_dist['pct'] = round(pm_dist['n'] / len(df) * 100, 2)\n",
    "print(pm_dist)"
   ]
  },
  {
   "cell_type": "code",
   "execution_count": null,
   "id": "e35fa195",
   "metadata": {},
   "outputs": [],
   "source": [
    "# 9. 구별 good 비율 상위 5개\n",
    "good_ratio = (\n",
    "    df[df['pm_grade'] == 'good']\n",
    "    .groupby('district')['pm_grade']\n",
    "    .count()\n",
    "    .reset_index(name='n')\n",
    ")\n",
    "\n",
    "total_by_district = df.groupby('district')['pm_grade'].count().reset_index(name='total')\n",
    "good_pct = pd.merge(good_ratio, total_by_district, on='district')\n",
    "good_pct['pct'] = round(good_pct['n'] / good_pct['total'] * 100, 2)\n",
    "\n",
    "print(good_pct.sort_values(by='pct', ascending=False).head(5))"
   ]
  },
  {
   "cell_type": "code",
   "execution_count": null,
   "id": "321d2af6",
   "metadata": {},
   "outputs": [],
   "source": [
    "# 10. 일별 PM10 추이 그래프\n",
    "plt.figure(figsize=(12, 4))\n",
    "df.groupby('date')['pm10'].mean().plot()\n",
    "plt.title('Daily Trend of PM10 in Seoul, 2019')\n",
    "plt.xlabel('Date')\n",
    "plt.ylabel('PM10 (μg/m³)')\n",
    "plt.grid()\n",
    "plt.show()"
   ]
  },
  {
   "cell_type": "code",
   "execution_count": null,
   "id": "76a0039f",
   "metadata": {},
   "outputs": [],
   "source": [
    "# 11. 계절별 등급 비율 그래프\n",
    "season_grade = (\n",
    "    df.groupby(['season', 'pm_grade'])\n",
    "    .size()\n",
    "    .reset_index(name='n')\n",
    ")\n",
    "\n",
    "total_season = season_grade.groupby('season')['n'].transform('sum')\n",
    "season_grade['pct'] = round(season_grade['n'] / total_season * 100, 2)\n",
    "\n",
    "plt.figure(figsize=(10, 6))\n",
    "sns.barplot(data=season_grade, x='season', y='pct', hue='pm_grade', order=['spring', 'summer', 'autumn', 'winter'], hue_order=['good', 'normal', 'bad', 'worse'])\n",
    "plt.title('Seasonal Distribution of PM10 Grades in Seoul, 2019')\n",
    "plt.ylabel('Percentage')\n",
    "plt.xlabel('Season')\n",
    "plt.legend(title='Grade')\n",
    "plt.show()"
   ]
  }
 ],
 "metadata": {
  "kernelspec": {
   "display_name": "base",
   "language": "python",
   "name": "python3"
  },
  "language_info": {
   "codemirror_mode": {
    "name": "ipython",
    "version": 3
   },
   "file_extension": ".py",
   "mimetype": "text/x-python",
   "name": "python",
   "nbconvert_exporter": "python",
   "pygments_lexer": "ipython3",
   "version": "3.12.7"
  }
 },
 "nbformat": 4,
 "nbformat_minor": 5
}
